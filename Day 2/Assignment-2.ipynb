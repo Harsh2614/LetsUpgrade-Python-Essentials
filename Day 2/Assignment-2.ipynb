{
 "cells": [
  {
   "cell_type": "code",
   "execution_count": 1,
   "metadata": {},
   "outputs": [
    {
     "name": "stdout",
     "output_type": "stream",
     "text": [
      "Hello\n"
     ]
    }
   ],
   "source": [
    "print(\"Hello\")"
   ]
  },
  {
   "cell_type": "markdown",
   "metadata": {},
   "source": [
    "# Basic Python Syntax:-"
   ]
  },
  {
   "cell_type": "markdown",
   "metadata": {},
   "source": [
    "## Back Slash:-"
   ]
  },
  {
   "cell_type": "code",
   "execution_count": 8,
   "metadata": {},
   "outputs": [
    {
     "name": "stdout",
     "output_type": "stream",
     "text": [
      "Hello        Python\n"
     ]
    }
   ],
   "source": [
    "print(\"Hello \\\n",
    "       Python\")"
   ]
  },
  {
   "cell_type": "markdown",
   "metadata": {},
   "source": [
    "## Triple Quotes:- "
   ]
  },
  {
   "cell_type": "code",
   "execution_count": 7,
   "metadata": {},
   "outputs": [
    {
     "data": {
      "text/plain": [
       "'   This Is Day 2   '"
      ]
     },
     "execution_count": 7,
     "metadata": {},
     "output_type": "execute_result"
    }
   ],
   "source": [
    "'''   This Is Day 2   '''"
   ]
  },
  {
   "cell_type": "code",
   "execution_count": 5,
   "metadata": {},
   "outputs": [
    {
     "data": {
      "text/plain": [
       "'\\n ______   \\n/ ___  \\\\  \\n\\\\/   \\\\  \\\\ \\n   ___) / \\n  (___ (  \\n      ) \\\\ \\n/\\\\___/  / \\n\\\\______/  \\n'"
      ]
     },
     "execution_count": 5,
     "metadata": {},
     "output_type": "execute_result"
    }
   ],
   "source": [
    "\"\"\"\n",
    " ______   \n",
    "/ ___  \\  \n",
    "\\/   \\  \\ \n",
    "   ___) / \n",
    "  (___ (  \n",
    "      ) \\ \n",
    "/\\___/  / \n",
    "\\______/  \n",
    "\"\"\""
   ]
  },
  {
   "cell_type": "markdown",
   "metadata": {},
   "source": [
    "## String Inside The Quotes:-"
   ]
  },
  {
   "cell_type": "code",
   "execution_count": 10,
   "metadata": {},
   "outputs": [
    {
     "name": "stdout",
     "output_type": "stream",
     "text": [
      "Python's World\n"
     ]
    }
   ],
   "source": [
    "print(\"Python's World\")"
   ]
  },
  {
   "cell_type": "markdown",
   "metadata": {},
   "source": [
    "## Escape Sequences:-"
   ]
  },
  {
   "cell_type": "code",
   "execution_count": 11,
   "metadata": {},
   "outputs": [
    {
     "name": "stdout",
     "output_type": "stream",
     "text": [
      "IPL \tStarting\n"
     ]
    }
   ],
   "source": [
    "print(\"IPL \\tStarting\")"
   ]
  },
  {
   "cell_type": "code",
   "execution_count": 12,
   "metadata": {},
   "outputs": [
    {
     "name": "stdout",
     "output_type": "stream",
     "text": [
      "Harsh\n",
      "Saxena\n"
     ]
    }
   ],
   "source": [
    "print(\"Harsh\\nSaxena\")"
   ]
  },
  {
   "cell_type": "code",
   "execution_count": 13,
   "metadata": {},
   "outputs": [
    {
     "name": "stdout",
     "output_type": "stream",
     "text": [
      "Python's World\n"
     ]
    }
   ],
   "source": [
    "print('Python\\'s World')"
   ]
  },
  {
   "cell_type": "markdown",
   "metadata": {},
   "source": [
    "## Formatted Output:-"
   ]
  },
  {
   "cell_type": "code",
   "execution_count": 16,
   "metadata": {},
   "outputs": [
    {
     "name": "stdout",
     "output_type": "stream",
     "text": [
      "The Name Of The Person Is Harsh , Age Is 20 , Marks Is 99\n"
     ]
    }
   ],
   "source": [
    "name = \"Harsh\"\n",
    "age = 20\n",
    "marks = 99\n",
    "print(\"The Name Of The Person Is\",name,\",\",\"Age Is\",age,\",\",\"Marks Is\",marks)"
   ]
  },
  {
   "cell_type": "code",
   "execution_count": 18,
   "metadata": {},
   "outputs": [
    {
     "name": "stdout",
     "output_type": "stream",
     "text": [
      "The Name Of The Person Is Harsh Age Is 20 Marks Is 99.000000\n",
      "The Name Of The Person Is                Harsh Age Is                   20 Marks Is            99.000000\n"
     ]
    }
   ],
   "source": [
    "print(\"The Name Of The Person Is %s Age Is %d Marks Is %f\"%(name,age,marks))\n",
    "print(\"The Name Of The Person Is %20s Age Is %20d Marks Is %20f\"%(name,age,marks))"
   ]
  },
  {
   "cell_type": "code",
   "execution_count": 19,
   "metadata": {},
   "outputs": [
    {
     "name": "stdout",
     "output_type": "stream",
     "text": [
      "The Name Of The Person Is Harsh Age Is 20 Marks Is 99\n"
     ]
    }
   ],
   "source": [
    "print(f\"The Name Of The Person Is {name} Age Is {age} Marks Is {marks}\")"
   ]
  },
  {
   "cell_type": "markdown",
   "metadata": {},
   "source": [
    "# Python Variable & Assignment Statement:-"
   ]
  },
  {
   "cell_type": "code",
   "execution_count": 25,
   "metadata": {},
   "outputs": [
    {
     "name": "stdout",
     "output_type": "stream",
     "text": [
      "80204272\n"
     ]
    },
    {
     "data": {
      "text/plain": [
       "8791360578736"
      ]
     },
     "execution_count": 25,
     "metadata": {},
     "output_type": "execute_result"
    }
   ],
   "source": [
    "var_name = \"Harsh\"\n",
    "print(id(var_name)) #id gives address\n",
    "x = 26\n",
    "id(x)"
   ]
  },
  {
   "cell_type": "code",
   "execution_count": 24,
   "metadata": {},
   "outputs": [
    {
     "name": "stdout",
     "output_type": "stream",
     "text": [
      "8791360578352\n",
      "8791360578352\n"
     ]
    }
   ],
   "source": [
    "x = 14\n",
    "print(id(x))\n",
    "y = x\n",
    "print(id(y))"
   ]
  },
  {
   "cell_type": "markdown",
   "metadata": {},
   "source": [
    "# Python Operators:-"
   ]
  },
  {
   "cell_type": "markdown",
   "metadata": {},
   "source": [
    "## Arithmetic Operators:-"
   ]
  },
  {
   "cell_type": "code",
   "execution_count": 32,
   "metadata": {},
   "outputs": [
    {
     "name": "stdout",
     "output_type": "stream",
     "text": [
      "19\n",
      "9\n",
      "2.8\n",
      "2\n",
      "4\n",
      "70\n",
      "537824\n"
     ]
    }
   ],
   "source": [
    "a = 14\n",
    "b = 5\n",
    "\n",
    "c = a + b     #Addition Operator\n",
    "print(c)\n",
    "\n",
    "d = a - b      #Subtraction Operator\n",
    "print(d)\n",
    "\n",
    "e = a / b      #Division Operator\n",
    "print(e)\n",
    "\n",
    "f = a // b      #Floor Division(Occupy Quotient)\n",
    "print(f)\n",
    "\n",
    "g = a % b      #Modulus Operator(Occupy Remainder)\n",
    "print(g)\n",
    "\n",
    "x = a * b      #Multiplication Operator\n",
    "print(x)\n",
    "\n",
    "y = a ** b    #Exponent Operator\n",
    "print(y)"
   ]
  },
  {
   "cell_type": "markdown",
   "metadata": {},
   "source": [
    "## Comparison Operators:-"
   ]
  },
  {
   "cell_type": "code",
   "execution_count": 38,
   "metadata": {},
   "outputs": [
    {
     "name": "stdout",
     "output_type": "stream",
     "text": [
      "False\n",
      "True\n",
      "True\n",
      "False\n",
      "False\n",
      "True\n"
     ]
    }
   ],
   "source": [
    "a = 26\n",
    "b = 18\n",
    "\n",
    "x = (a == b)\n",
    "print(x)\n",
    "\n",
    "y = (a != b)\n",
    "print(y)\n",
    "\n",
    "z = a > b\n",
    "print(z)\n",
    "\n",
    "c = a < b\n",
    "print(c)\n",
    "\n",
    "d = a <= b\n",
    "print(d)\n",
    "\n",
    "e = a >= b\n",
    "print(e)"
   ]
  },
  {
   "cell_type": "markdown",
   "metadata": {},
   "source": [
    "## Assignment Operators:-"
   ]
  },
  {
   "cell_type": "code",
   "execution_count": 44,
   "metadata": {},
   "outputs": [
    {
     "name": "stdout",
     "output_type": "stream",
     "text": [
      "6\n",
      "6\n",
      "12\n",
      "6\n",
      "6\n",
      "6\n",
      "36\n",
      "6\n",
      "6.0\n",
      "6\n",
      "46656.0\n",
      "6\n"
     ]
    }
   ],
   "source": [
    "a = 5\n",
    "b = 6\n",
    "\n",
    "a = b\n",
    "print(a)\n",
    "print(b)\n",
    "\n",
    "a += b\n",
    "print(a)\n",
    "print(b)\n",
    "\n",
    "a -= b\n",
    "print(a)\n",
    "print(b)\n",
    "\n",
    "a *= b\n",
    "print(a)\n",
    "print(b)\n",
    "\n",
    "a /= b\n",
    "print(a)\n",
    "print(b)\n",
    "\n",
    "a **= b\n",
    "print(a)\n",
    "print(b)"
   ]
  },
  {
   "cell_type": "markdown",
   "metadata": {},
   "source": [
    "## Bitwise Operators:-"
   ]
  },
  {
   "cell_type": "code",
   "execution_count": 53,
   "metadata": {},
   "outputs": [
    {
     "name": "stdout",
     "output_type": "stream",
     "text": [
      "10\n",
      "2\n",
      "-11\n"
     ]
    }
   ],
   "source": [
    "a = 10\n",
    "b = 2\n",
    "\n",
    "print(a | b)\n",
    "print(a & b)\n",
    "print(~a)\n"
   ]
  },
  {
   "cell_type": "markdown",
   "metadata": {},
   "source": [
    "## Logical Operators:-"
   ]
  },
  {
   "cell_type": "code",
   "execution_count": 58,
   "metadata": {},
   "outputs": [
    {
     "name": "stdout",
     "output_type": "stream",
     "text": [
      "True\n",
      "False\n",
      "True\n",
      "False\n"
     ]
    }
   ],
   "source": [
    "a = 10\n",
    "b = 12\n",
    "\n",
    "x = a>9 or b<10\n",
    "print(x)\n",
    "\n",
    "y = a>9 and b<10\n",
    "print(y)\n",
    "\n",
    "z = a>9 and b>10\n",
    "print(z)\n",
    "\n",
    "c = not(a>9 and b>10)\n",
    "print(c)"
   ]
  },
  {
   "cell_type": "markdown",
   "metadata": {},
   "source": [
    "## Membership Operators:-"
   ]
  },
  {
   "cell_type": "code",
   "execution_count": 62,
   "metadata": {},
   "outputs": [
    {
     "name": "stdout",
     "output_type": "stream",
     "text": [
      "False\n",
      "True\n",
      "True\n"
     ]
    }
   ],
   "source": [
    "str = \"Looking Forward To IPL\"\n",
    "x = \"l\" in str\n",
    "print(x)\n",
    "\n",
    "y = \"L\" in str\n",
    "print(y)\n",
    "\n",
    "z = \"y\" not in str\n",
    "print(z)"
   ]
  },
  {
   "cell_type": "markdown",
   "metadata": {},
   "source": [
    "## Identity Operator:-"
   ]
  },
  {
   "cell_type": "code",
   "execution_count": 65,
   "metadata": {},
   "outputs": [
    {
     "name": "stdout",
     "output_type": "stream",
     "text": [
      "True\n",
      "True\n",
      "False\n"
     ]
    }
   ],
   "source": [
    "a = 10\n",
    "b = 10\n",
    "\n",
    "x = a is b\n",
    "print(x)\n",
    "\n",
    "c = 11\n",
    "d = 12\n",
    "\n",
    "y = c is not d\n",
    "print(y)\n",
    "\n",
    "z = c is d\n",
    "print(z)"
   ]
  },
  {
   "cell_type": "code",
   "execution_count": 66,
   "metadata": {},
   "outputs": [
    {
     "name": "stdout",
     "output_type": "stream",
     "text": [
      "False\n"
     ]
    }
   ],
   "source": [
    "a = 257\n",
    "b = 257\n",
    "\n",
    "z = a is b\n",
    "print(z)     #Integer Range Is Upto 256, Hence False"
   ]
  },
  {
   "cell_type": "markdown",
   "metadata": {},
   "source": [
    "# Operators Precedence:-"
   ]
  },
  {
   "cell_type": "code",
   "execution_count": 68,
   "metadata": {},
   "outputs": [
    {
     "name": "stdout",
     "output_type": "stream",
     "text": [
      "391920.39999999997\n"
     ]
    }
   ],
   "source": [
    "x = 10+7/5*6**7\n",
    "print(x)"
   ]
  },
  {
   "cell_type": "markdown",
   "metadata": {},
   "source": [
    "## The Common Operators In Python Has Following Precedence In The Decreasing Order:-"
   ]
  },
  {
   "cell_type": "markdown",
   "metadata": {},
   "source": [
    "## (), **, *, /, //, %, +, -, &, |, not, and, or"
   ]
  },
  {
   "cell_type": "code",
   "execution_count": 69,
   "metadata": {},
   "outputs": [
    {
     "data": {
      "text/plain": [
       "12"
      ]
     },
     "execution_count": 69,
     "metadata": {},
     "output_type": "execute_result"
    }
   ],
   "source": [
    "12+(5+7)**2%3"
   ]
  },
  {
   "cell_type": "code",
   "execution_count": 70,
   "metadata": {},
   "outputs": [
    {
     "data": {
      "text/plain": [
       "4.0"
      ]
     },
     "execution_count": 70,
     "metadata": {},
     "output_type": "execute_result"
    }
   ],
   "source": [
    "9%2//4/3*2**3+(5-1)"
   ]
  },
  {
   "cell_type": "code",
   "execution_count": null,
   "metadata": {},
   "outputs": [],
   "source": []
  }
 ],
 "metadata": {
  "kernelspec": {
   "display_name": "Python 3",
   "language": "python",
   "name": "python3"
  },
  "language_info": {
   "codemirror_mode": {
    "name": "ipython",
    "version": 3
   },
   "file_extension": ".py",
   "mimetype": "text/x-python",
   "name": "python",
   "nbconvert_exporter": "python",
   "pygments_lexer": "ipython3",
   "version": "3.7.6"
  }
 },
 "nbformat": 4,
 "nbformat_minor": 4
}
