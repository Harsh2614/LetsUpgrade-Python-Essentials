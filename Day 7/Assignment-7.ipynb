{
 "cells": [
  {
   "cell_type": "markdown",
   "metadata": {},
   "source": [
    "# This Is A File For Assignment-7 Of Python Essentials:-"
   ]
  },
  {
   "cell_type": "markdown",
   "metadata": {},
   "source": [
    "# Question-1 => Use The Dictionary\n",
    "# port1 = {21:\"FTP\",22:\"SSH\",23:\"telnet\",80:\"http\"}\n",
    "# Make A New Dictionary In Which Keys Become Values & Values Become Keys\n",
    "# port2 = {'FTP': 21, 'SSH': 22, 'telnet': 23, 'http': 80}"
   ]
  },
  {
   "cell_type": "code",
   "execution_count": 3,
   "metadata": {},
   "outputs": [
    {
     "name": "stdout",
     "output_type": "stream",
     "text": [
      "The Required Dictionary Is : {'FTP': 21, 'SSH': 22, 'telnet': 23, 'http': 80}\n"
     ]
    }
   ],
   "source": [
    "port1 = {21:\"FTP\",22:\"SSH\",23:\"telnet\",80:\"http\"}\n",
    "port2 = {value:key for key,value in port1.items()}\n",
    "print(\"The Required Dictionary Is :\",port2)"
   ]
  },
  {
   "cell_type": "markdown",
   "metadata": {},
   "source": [
    "# Question-2 => Take A List Of Tuples As Shown Below\n",
    "# [(1,2),(3,4),(5,6),(4,5)]\n",
    "# Make A New List Which Contains Sum Of Number Of Tuples\n",
    "# Example - [3,7,11]"
   ]
  },
  {
   "cell_type": "code",
   "execution_count": 15,
   "metadata": {},
   "outputs": [
    {
     "name": "stdout",
     "output_type": "stream",
     "text": [
      "The list contains sum of tuple: [3, 7, 11]\n"
     ]
    }
   ],
   "source": [
    "List1=[(1,2),(3,4),(5,6)]\n",
    "List2=[]\n",
    "for each in range(0,len(list1)):\n",
    "    x,y=List1[each]\n",
    "    List2.append(x+y)\n",
    "print(\"The List Of Sum Of Tuples Pair Is :\",List2)"
   ]
  },
  {
   "cell_type": "markdown",
   "metadata": {},
   "source": [
    "# Question-3 => Take A List As Shown\n",
    "# [(1,2,3),[1,2],['a','hit','less']]\n",
    "# The List Contains Tuple & Lists # \n",
    "# Make The Elements Of Inner Lists & Tuples To Outer List "
   ]
  },
  {
   "cell_type": "code",
   "execution_count": 20,
   "metadata": {},
   "outputs": [
    {
     "name": "stdout",
     "output_type": "stream",
     "text": [
      "The Final List Of Tuple & List Elements Are : [1, 2, 3, 1, 2, 'a', 'hit', 'less']\n"
     ]
    }
   ],
   "source": [
    "List1=[(1,2,3),[1,2],['a','hit','less']]   \n",
    "List2=[]\n",
    "List2=[i for each in List1 for i in each]\n",
    "print (\"The Final List Of Tuple & List Elements Are :\",List2)"
   ]
  },
  {
   "cell_type": "code",
   "execution_count": null,
   "metadata": {},
   "outputs": [],
   "source": []
  }
 ],
 "metadata": {
  "kernelspec": {
   "display_name": "Python 3",
   "language": "python",
   "name": "python3"
  },
  "language_info": {
   "codemirror_mode": {
    "name": "ipython",
    "version": 3
   },
   "file_extension": ".py",
   "mimetype": "text/x-python",
   "name": "python",
   "nbconvert_exporter": "python",
   "pygments_lexer": "ipython3",
   "version": "3.7.6"
  }
 },
 "nbformat": 4,
 "nbformat_minor": 4
}
