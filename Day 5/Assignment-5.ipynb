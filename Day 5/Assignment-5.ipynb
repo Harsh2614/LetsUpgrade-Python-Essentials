{
 "cells": [
  {
   "cell_type": "markdown",
   "metadata": {},
   "source": [
    "# This Is A File For Assignment-5 Of Python Essentials:-"
   ]
  },
  {
   "cell_type": "markdown",
   "metadata": {},
   "source": [
    "# Question-1 => [0,1,2,10,4,1,0,56,2,0,1,3,0,56,0,4] \n",
    "# Sort The Elements In Increasing Order But All Zeros Should Be At The R.H.S"
   ]
  },
  {
   "cell_type": "code",
   "execution_count": 22,
   "metadata": {},
   "outputs": [
    {
     "name": "stdout",
     "output_type": "stream",
     "text": [
      "[1, 2, 10, 4, 1, 56, 2, 1, 3, 56, 4]\n",
      "[0, 0, 0, 0, 0]\n",
      "[1, 1, 1, 2, 2, 3, 4, 4, 10, 56, 56]\n",
      "[1, 1, 1, 2, 2, 3, 4, 4, 10, 56, 56, 0, 0, 0, 0, 0]\n"
     ]
    }
   ],
   "source": [
    "a = [0,1,2,10,4,1,0,56,2,0,1,3,0,56,0,4]\n",
    "b = []                                    #Empty List For Storing All Zeros\n",
    "for i in range(len(a)):\n",
    "    if(a[i]==0):\n",
    "        b.append(a[i])\n",
    "    i+=1\n",
    "val = 0\n",
    "a = [i for i in a if i!=val]\n",
    "print(a)                                 #List Of Non-Zero Elements\n",
    "print(b)\n",
    "a.sort()\n",
    "print(a)\n",
    "a.extend(b)\n",
    "print(a)"
   ]
  },
  {
   "cell_type": "markdown",
   "metadata": {},
   "source": [
    "# Question-2 => List1 - [10,20,40,60,70,80]  List2 - [5,15,25,35,45,60] \n",
    "# Merge This 2 Sorted Lists To Produce 1 Sorted List, But Use Either For Or While Loop Only For 1 Time"
   ]
  },
  {
   "cell_type": "code",
   "execution_count": 45,
   "metadata": {},
   "outputs": [
    {
     "name": "stdout",
     "output_type": "stream",
     "text": [
      "The Merged List Is : [10, 20, 40, 60, 70, 80, 5, 15, 25, 35, 45, 60]\n",
      "The Sorted List Is : [5, 10, 15, 20, 25, 35, 40, 45, 60, 70, 80]\n"
     ]
    }
   ],
   "source": [
    "List1 = [10,20,40,60,70,80]                                #SortedList1\n",
    "List2 = [5,15,25,35,45,60]                                 #SortedList2\n",
    "\n",
    "MergedList =List1 + List2\n",
    "print('The Merged List Is :',MergedList)                   #MergedList\n",
    "\n",
    "SortedList = []                                            #Required Sorted List\n",
    "for i in range(min(MergedList), max(MergedList)+1):\n",
    "    if i in MergedList:\n",
    "        SortedList.append(i)\n",
    "print('The Sorted List Is :',SortedList)"
   ]
  },
  {
   "cell_type": "code",
   "execution_count": null,
   "metadata": {},
   "outputs": [],
   "source": []
  }
 ],
 "metadata": {
  "kernelspec": {
   "display_name": "Python 3",
   "language": "python",
   "name": "python3"
  },
  "language_info": {
   "codemirror_mode": {
    "name": "ipython",
    "version": 3
   },
   "file_extension": ".py",
   "mimetype": "text/x-python",
   "name": "python",
   "nbconvert_exporter": "python",
   "pygments_lexer": "ipython3",
   "version": "3.7.6"
  }
 },
 "nbformat": 4,
 "nbformat_minor": 4
}
