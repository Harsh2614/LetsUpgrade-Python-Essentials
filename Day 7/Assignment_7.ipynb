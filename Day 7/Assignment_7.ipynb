{
  "nbformat": 4,
  "nbformat_minor": 0,
  "metadata": {
    "kernelspec": {
      "display_name": "Python 3",
      "language": "python",
      "name": "python3"
    },
    "language_info": {
      "codemirror_mode": {
        "name": "ipython",
        "version": 3
      },
      "file_extension": ".py",
      "mimetype": "text/x-python",
      "name": "python",
      "nbconvert_exporter": "python",
      "pygments_lexer": "ipython3",
      "version": "3.7.6"
    },
    "colab": {
      "name": "Assignment-7.ipynb",
      "provenance": [],
      "collapsed_sections": []
    }
  },
  "cells": [
    {
      "cell_type": "markdown",
      "metadata": {
        "id": "-5ns39SHa0Kv",
        "colab_type": "text"
      },
      "source": [
        "# This Is A File For Assignment-7 Of Python Essentials:-"
      ]
    },
    {
      "cell_type": "markdown",
      "metadata": {
        "id": "SoHK09KHa0Kx",
        "colab_type": "text"
      },
      "source": [
        "# Question-1 => Use The Dictionary\n",
        "# port1 = {21:\"FTP\",22:\"SSH\",23:\"telnet\",80:\"http\"}\n",
        "# Make A New Dictionary In Which Keys Become Values & Values Become Keys\n",
        "# port2 = {'FTP': 21, 'SSH': 22, 'telnet': 23, 'http': 80}"
      ]
    },
    {
      "cell_type": "code",
      "metadata": {
        "id": "8vxwpt7Za0Kz",
        "colab_type": "code",
        "colab": {},
        "outputId": "e2727d01-9958-4ffa-cdab-186b52c0569b"
      },
      "source": [
        "port1 = {21:\"FTP\",22:\"SSH\",23:\"telnet\",80:\"http\"}\n",
        "port2 = {value:key for key,value in port1.items()}\n",
        "print(\"The Required Dictionary Is :\",port2)"
      ],
      "execution_count": null,
      "outputs": [
        {
          "output_type": "stream",
          "text": [
            "The Required Dictionary Is : {'FTP': 21, 'SSH': 22, 'telnet': 23, 'http': 80}\n"
          ],
          "name": "stdout"
        }
      ]
    },
    {
      "cell_type": "markdown",
      "metadata": {
        "id": "ZIOI3pD2a0K7",
        "colab_type": "text"
      },
      "source": [
        "# Question-2 => Take A List Of Tuples As Shown Below\n",
        "# [(1,2),(3,4),(5,6),(4,5)]\n",
        "# Make A New List Which Contains Sum Of Number Of Tuples\n",
        "# Example - [3,7,11]"
      ]
    },
    {
      "cell_type": "code",
      "metadata": {
        "id": "ue-J2LIsa0K-",
        "colab_type": "code",
        "colab": {
          "base_uri": "https://localhost:8080/",
          "height": 34
        },
        "outputId": "807d7e76-9b6d-49fd-bde4-9caa50a69949"
      },
      "source": [
        "List1=[(1,2),(3,4),(5,6)]\n",
        "List2=[]\n",
        "for each in range(0,len(List1)):\n",
        "    x,y=List1[each]\n",
        "    List2.append(x+y)\n",
        "print(\"The Final List Of Tuple & List Elements Are :\",List2)"
      ],
      "execution_count": 2,
      "outputs": [
        {
          "output_type": "stream",
          "text": [
            "The Final List Of Tuple & List Elements Are : [3, 7, 11]\n"
          ],
          "name": "stdout"
        }
      ]
    },
    {
      "cell_type": "markdown",
      "metadata": {
        "id": "3FsuTTopa0LE",
        "colab_type": "text"
      },
      "source": [
        "# Question-3 => Take A List As Shown\n",
        "# [(1,2,3),[1,2],['a','hit','less']]\n",
        "# The List Contains Tuple & Lists # \n",
        "# Make The Elements Of Inner Lists & Tuples To Outer List "
      ]
    },
    {
      "cell_type": "code",
      "metadata": {
        "id": "Ouql3Otma0LF",
        "colab_type": "code",
        "colab": {},
        "outputId": "7aa34379-695d-4a15-bf93-ab0f5d351478"
      },
      "source": [
        "List1=[(1,2,3),[1,2],['a','hit','less']]   \n",
        "List2=[]\n",
        "List2=[i for each in List1 for i in each]\n",
        "print (\"The Final List Of Tuple & List Elements Are :\",List2)"
      ],
      "execution_count": null,
      "outputs": [
        {
          "output_type": "stream",
          "text": [
            "The Final List Of Tuple & List Elements Are : [1, 2, 3, 1, 2, 'a', 'hit', 'less']\n"
          ],
          "name": "stdout"
        }
      ]
    },
    {
      "cell_type": "code",
      "metadata": {
        "id": "nQlmf58Ba0LK",
        "colab_type": "code",
        "colab": {}
      },
      "source": [
        ""
      ],
      "execution_count": null,
      "outputs": []
    }
  ]
}