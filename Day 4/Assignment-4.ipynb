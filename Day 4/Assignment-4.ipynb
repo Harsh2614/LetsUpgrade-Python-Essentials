{
 "cells": [
  {
   "cell_type": "markdown",
   "metadata": {},
   "source": [
    "# This Is A File For Assignment-4 Of Python Essentials:-"
   ]
  },
  {
   "cell_type": "markdown",
   "metadata": {},
   "source": [
    "# Question-1 => Find All Occurrence Of Substring In Given String:-"
   ]
  },
  {
   "cell_type": "markdown",
   "metadata": {},
   "source": [
    "# \"What we think we become; we are Python programmer\"\n",
    "# Print The Index Values \"we\""
   ]
  },
  {
   "cell_type": "code",
   "execution_count": 7,
   "metadata": {},
   "outputs": [
    {
     "name": "stdout",
     "output_type": "stream",
     "text": [
      "The Original String Is :  What we think we become; we are Python programmer\n",
      "The Substring To Find Is :  we\n",
      "The Indexes At Which The Substring Occurs In Given String Are :  [5, 14, 25]\n",
      "The Total Number Of Occurrences Of 'we' In Given Str Is :  3\n"
     ]
    }
   ],
   "source": [
    "#Program To Find The Occurrences Of Substring \"we\" In Given String:-\n",
    "org_str = \"What we think we become; we are Python programmer\" \n",
    "  \n",
    "sub_str = \"we\"\n",
    "  \n",
    "print(\"The Original String Is : \", org_str) \n",
    "  \n",
    "print(\"The Substring To Find Is : \", test_sub) \n",
    "    \n",
    "res = [i for i in range(len(org_str)) if test_str.startswith(sub_str, i)] \n",
    "  \n",
    "print(\"The Indexes At Which The Substring Occurs In Given String Are : \", str(res)) \n",
    "print(\"The Total Number Of Occurrences Of 'we' In Given Str Is : \", len(res))"
   ]
  },
  {
   "cell_type": "markdown",
   "metadata": {},
   "source": [
    "# Question-2 => Explain Using Different Kinds Of Strings - islower() & isupper():-"
   ]
  },
  {
   "cell_type": "markdown",
   "metadata": {},
   "source": [
    "## The islower() returns \"true\" if all characters of the string are in Lowercase character\n",
    "## The isupper() returns \"true\" if all characters of the string are in Uppercase character"
   ]
  },
  {
   "cell_type": "code",
   "execution_count": 8,
   "metadata": {},
   "outputs": [
    {
     "name": "stdout",
     "output_type": "stream",
     "text": [
      "False\n"
     ]
    }
   ],
   "source": [
    "str1 = \"My name is Harsh Saxena\"\n",
    "print(str1.islower())               #False Bcz M H S Are Uppercase Characters"
   ]
  },
  {
   "cell_type": "code",
   "execution_count": 9,
   "metadata": {},
   "outputs": [
    {
     "name": "stdout",
     "output_type": "stream",
     "text": [
      "False\n"
     ]
    }
   ],
   "source": [
    "str2 = \"My Name Is Harsh Saxena\"\n",
    "print(str2.isupper())              #False Bcz Only The First Character Of Every Word Is In Uppercase"
   ]
  },
  {
   "cell_type": "code",
   "execution_count": 10,
   "metadata": {},
   "outputs": [
    {
     "name": "stdout",
     "output_type": "stream",
     "text": [
      "False\n"
     ]
    }
   ],
   "source": [
    "str3 = \"my name is harsh Saxena\"\n",
    "print(str3.islower())              #False Still Bcz S Is In Uppercase Character"
   ]
  },
  {
   "cell_type": "code",
   "execution_count": 11,
   "metadata": {},
   "outputs": [
    {
     "name": "stdout",
     "output_type": "stream",
     "text": [
      "True\n"
     ]
    }
   ],
   "source": [
    "str4 = \"my name is harsh saxena\"\n",
    "print(str4.islower())              #Now True Bcz All The Letters In String Are In Lowercase"
   ]
  },
  {
   "cell_type": "code",
   "execution_count": 12,
   "metadata": {},
   "outputs": [
    {
     "name": "stdout",
     "output_type": "stream",
     "text": [
      "False\n"
     ]
    }
   ],
   "source": [
    "str5 = \"MY NAME IS HARSH SAXENa\"   \n",
    "print(str5.isupper())              #False Still Bcz a Is In Lowercase Character"
   ]
  },
  {
   "cell_type": "code",
   "execution_count": 13,
   "metadata": {},
   "outputs": [
    {
     "name": "stdout",
     "output_type": "stream",
     "text": [
      "True\n"
     ]
    }
   ],
   "source": [
    "str6 = \"MY NAME IS HARSH SAXENA\"   \n",
    "print(str6.isupper())              #Now True Bcz All The Letters In String Are In Uppercase"
   ]
  },
  {
   "cell_type": "code",
   "execution_count": 15,
   "metadata": {},
   "outputs": [
    {
     "name": "stdout",
     "output_type": "stream",
     "text": [
      "False\n",
      "True\n"
     ]
    }
   ],
   "source": [
    "str7 = \"5678\"\n",
    "print(str6.islower())             #False Bcz Numbers Inside Brackets Haven't Any Lowercase\n",
    "print(str6.isupper())             #True For All The Integers Inside Brackets"
   ]
  },
  {
   "cell_type": "code",
   "execution_count": 18,
   "metadata": {},
   "outputs": [
    {
     "name": "stdout",
     "output_type": "stream",
     "text": [
      "False\n",
      "False\n"
     ]
    }
   ],
   "source": [
    "str8 = \"@!#$%\"\n",
    "print(str8.islower())\n",
    "print(str8.isupper())            #False For Special Characters In Both Conditions"
   ]
  },
  {
   "cell_type": "code",
   "execution_count": null,
   "metadata": {},
   "outputs": [],
   "source": []
  }
 ],
 "metadata": {
  "kernelspec": {
   "display_name": "Python 3",
   "language": "python",
   "name": "python3"
  },
  "language_info": {
   "codemirror_mode": {
    "name": "ipython",
    "version": 3
   },
   "file_extension": ".py",
   "mimetype": "text/x-python",
   "name": "python",
   "nbconvert_exporter": "python",
   "pygments_lexer": "ipython3",
   "version": "3.7.6"
  }
 },
 "nbformat": 4,
 "nbformat_minor": 4
}
