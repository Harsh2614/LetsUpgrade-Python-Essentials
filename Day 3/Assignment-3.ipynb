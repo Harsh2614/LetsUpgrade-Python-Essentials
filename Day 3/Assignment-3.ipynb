{
 "cells": [
  {
   "cell_type": "markdown",
   "metadata": {},
   "source": [
    "# This Is A File For Assignment-2 Of Python Essentials:-"
   ]
  },
  {
   "cell_type": "markdown",
   "metadata": {},
   "source": [
    "# Question-1 => Find Sum Of n Numbers Using While Loop:-"
   ]
  },
  {
   "cell_type": "code",
   "execution_count": 13,
   "metadata": {},
   "outputs": [
    {
     "name": "stdout",
     "output_type": "stream",
     "text": [
      "Please Enter A Number50\n",
      "The Sum Is 1275\n"
     ]
    }
   ],
   "source": [
    "# Program To Find Sum Of Natural Numbers Up To n:-\n",
    "\n",
    "n = eval(input(\"Please Enter A Number\"))\n",
    "\n",
    "if n<0:\n",
    "   print(\"Plz Enter A Positive Number\")\n",
    "else:\n",
    "   sum = 0\n",
    "   while(n>0):\n",
    "       sum += n\n",
    "       n -= 1\n",
    "   print(\"The Sum Is\", sum)"
   ]
  },
  {
   "cell_type": "markdown",
   "metadata": {},
   "source": [
    "# Question-2 => Take An Integer & Find Whether The Number Is Prime Or Not:-"
   ]
  },
  {
   "cell_type": "code",
   "execution_count": 8,
   "metadata": {},
   "outputs": [
    {
     "name": "stdout",
     "output_type": "stream",
     "text": [
      "Please Enter A Number67\n",
      "67 Is A Prime Number\n"
     ]
    }
   ],
   "source": [
    "# Program To Check If A Number Is Prime Or Not:-\n",
    "\n",
    "num = int(input(\"Please Enter A Number\"))\n",
    "\n",
    "if num > 1:\n",
    "   for i in range(2,num):\n",
    "       if(num % i) == 0:\n",
    "           print(num,\"is Not A Prime Number\")\n",
    "           break\n",
    "   else:\n",
    "       print(num,\"Is A Prime Number\")\n",
    "\n",
    "else:\n",
    "   print(num,\"is Not A Prime Number\")"
   ]
  },
  {
   "cell_type": "code",
   "execution_count": null,
   "metadata": {},
   "outputs": [],
   "source": []
  }
 ],
 "metadata": {
  "kernelspec": {
   "display_name": "Python 3",
   "language": "python",
   "name": "python3"
  },
  "language_info": {
   "codemirror_mode": {
    "name": "ipython",
    "version": 3
   },
   "file_extension": ".py",
   "mimetype": "text/x-python",
   "name": "python",
   "nbconvert_exporter": "python",
   "pygments_lexer": "ipython3",
   "version": "3.7.6"
  }
 },
 "nbformat": 4,
 "nbformat_minor": 4
}
